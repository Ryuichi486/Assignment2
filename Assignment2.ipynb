{
 "cells": [
  {
   "cell_type": "code",
   "execution_count": 4,
   "id": "f1bbdc4a-bcc9-4611-a3c4-a937097b4deb",
   "metadata": {},
   "outputs": [
    {
     "name": "stdout",
     "output_type": "stream",
     "text": [
      "[[1 0 0 0 0]\n",
      " [1 1 0 0 0]\n",
      " [1 2 1 0 0]\n",
      " [1 3 3 1 0]\n",
      " [1 4 6 4 1]]\n"
     ]
    }
   ],
   "source": [
    "import numpy as np\n",
    "rows = 5\n",
    "pas_tri = np.zeros([rows, rows], dtype = int)\n",
    "pas_tri[0, 0] = 1\n",
    "pas_tri[1, 0] = 1\n",
    "pas_tri[1, 1] = 1\n",
    "for i in range(2, rows):\n",
    "    for j in range(0, i + 1):\n",
    "        pas_tri[i, j] = pas_tri[i - 1, j - 1] + pas_tri[i - 1, j]\n",
    "print(pas_tri)"
   ]
  }
 ],
 "metadata": {
  "kernelspec": {
   "display_name": "Python 3",
   "language": "python",
   "name": "python3"
  },
  "language_info": {
   "codemirror_mode": {
    "name": "ipython",
    "version": 3
   },
   "file_extension": ".py",
   "mimetype": "text/x-python",
   "name": "python",
   "nbconvert_exporter": "python",
   "pygments_lexer": "ipython3",
   "version": "3.8.8"
  }
 },
 "nbformat": 4,
 "nbformat_minor": 5
}
