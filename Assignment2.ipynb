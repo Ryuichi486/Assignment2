{
 "cells": [
  {
   "cell_type": "code",
   "execution_count": 21,
   "id": "f1bbdc4a-bcc9-4611-a3c4-a937097b4deb",
   "metadata": {},
   "outputs": [
    {
     "name": "stdin",
     "output_type": "stream",
     "text": [
      "Number of Rows:  5\n"
     ]
    },
    {
     "name": "stdout",
     "output_type": "stream",
     "text": [
      "[[1 0 0 0 0]\n",
      " [1 1 0 0 0]\n",
      " [1 2 1 0 0]\n",
      " [1 3 3 1 0]\n",
      " [1 4 6 4 1]]\n"
     ]
    }
   ],
   "source": [
    "import numpy as np\n",
    "n = int(input('Number of Rows: '))\n",
    "pas = np.empty([n, n], dtype = int)\n",
    "pascal[0, 0] = 1\n",
    "pascal[1, 0] = 1\n",
    "pascal[1, 1] = 1\n",
    "for i in range(2, n):\n",
    "    for j in range(0, i + 1):\n",
    "        pascal[i, j] = pascal[i - 1, j - 1] + pascal[i - 1, j]\n",
    "print(pascal)"
   ]
  }
 ],
 "metadata": {
  "kernelspec": {
   "display_name": "Python 3",
   "language": "python",
   "name": "python3"
  },
  "language_info": {
   "codemirror_mode": {
    "name": "ipython",
    "version": 3
   },
   "file_extension": ".py",
   "mimetype": "text/x-python",
   "name": "python",
   "nbconvert_exporter": "python",
   "pygments_lexer": "ipython3",
   "version": "3.8.8"
  }
 },
 "nbformat": 4,
 "nbformat_minor": 5
}
